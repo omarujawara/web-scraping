{
 "cells": [
  {
   "cell_type": "code",
   "execution_count": 12,
   "id": "845d8d25-41fb-4ffc-b994-ee40ad78405a",
   "metadata": {},
   "outputs": [],
   "source": [
    "from bs4 import BeautifulSoup\n",
    "import requests as req"
   ]
  },
  {
   "cell_type": "code",
   "execution_count": 13,
   "id": "2ce5b4eb-2bb1-4ee4-bde5-aab2b95b7466",
   "metadata": {},
   "outputs": [],
   "source": [
    "url = 'https://www.scrapethissite.com/pages/forms/'"
   ]
  },
  {
   "cell_type": "code",
   "execution_count": 21,
   "id": "af67ab3c-3814-41d9-9f09-7a7fabd05878",
   "metadata": {},
   "outputs": [],
   "source": [
    "page = req.get(url)"
   ]
  },
  {
   "cell_type": "code",
   "execution_count": 32,
   "id": "67373473-3151-4202-b32f-1e3f05f602f0",
   "metadata": {},
   "outputs": [],
   "source": [
    "soup = BeautifulSoup(page.text,'html')\n",
    "# print(soup)"
   ]
  },
  {
   "cell_type": "code",
   "execution_count": 42,
   "id": "d69cc950-6b1d-4316-8a6e-f50592594ba0",
   "metadata": {},
   "outputs": [
    {
     "data": {
      "text/plain": [
       "[]"
      ]
     },
     "execution_count": 42,
     "metadata": {},
     "output_type": "execute_result"
    }
   ],
   "source": [
    "soup.find_all('table')"
   ]
  },
  {
   "cell_type": "code",
   "execution_count": null,
   "id": "6c1516c5-35a8-4985-a808-168f2ccdd0d8",
   "metadata": {},
   "outputs": [],
   "source": []
  }
 ],
 "metadata": {
  "kernelspec": {
   "display_name": "Python 3 (ipykernel)",
   "language": "python",
   "name": "python3"
  },
  "language_info": {
   "codemirror_mode": {
    "name": "ipython",
    "version": 3
   },
   "file_extension": ".py",
   "mimetype": "text/x-python",
   "name": "python",
   "nbconvert_exporter": "python",
   "pygments_lexer": "ipython3",
   "version": "3.11.4"
  }
 },
 "nbformat": 4,
 "nbformat_minor": 5
}
