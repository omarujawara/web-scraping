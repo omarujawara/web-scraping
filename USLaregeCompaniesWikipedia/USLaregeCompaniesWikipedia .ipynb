{
 "cells": [
  {
   "cell_type": "code",
   "execution_count": 1,
   "id": "1d296db2-8a45-4f1a-bb1d-373f3080cd26",
   "metadata": {},
   "outputs": [],
   "source": [
    "from bs4 import BeautifulSoup\n",
    "import requests as req"
   ]
  },
  {
   "cell_type": "code",
   "execution_count": 2,
   "id": "f2de5930-70af-4399-953e-a1ccb74a3c15",
   "metadata": {},
   "outputs": [
    {
     "name": "stdout",
     "output_type": "stream",
     "text": [
      "3\n"
     ]
    }
   ],
   "source": [
    "url = 'https://en.wikipedia.org/wiki/List_of_largest_companies_in_the_United_States_by_revenue'\n",
    "page = req.get(url)\n",
    "\n",
    "soup = BeautifulSoup(page.text)\n",
    "print(len(soup.find_all('table')) )"
   ]
  },
  {
   "cell_type": "markdown",
   "id": "fa5a495a-5236-4dcd-839e-48c270210ef2",
   "metadata": {},
   "source": [
    "# Largest Comapnies by Revenue"
   ]
  },
  {
   "cell_type": "code",
   "execution_count": 7,
   "id": "01f07c9f-6bf5-46ba-a9c1-bb5afab4e0d4",
   "metadata": {},
   "outputs": [],
   "source": [
    "# print(soup.find_all('table')[0])\n",
    "# print('#'*100)\n",
    "# print(soup.find_all('table')[1])\n",
    "# print('#'*100)\n",
    "# print(soup.find_all('table')[2])"
   ]
  },
  {
   "cell_type": "code",
   "execution_count": 10,
   "id": "2abd573a-2c24-4d32-bd62-493cfc5806f2",
   "metadata": {},
   "outputs": [],
   "source": [
    "# soup.find_all('table',class_='wikitable sortable')[0]"
   ]
  },
  {
   "cell_type": "code",
   "execution_count": 45,
   "id": "8a09391f-7846-4c5e-97ae-132efe3d14c5",
   "metadata": {},
   "outputs": [],
   "source": [
    "revenue_table = soup.find_all('table')[1]"
   ]
  },
  {
   "cell_type": "code",
   "execution_count": 12,
   "id": "4a6a58cc-894b-4382-ae06-7839bce84bca",
   "metadata": {},
   "outputs": [
    {
     "name": "stdout",
     "output_type": "stream",
     "text": [
      "['Rank', 'Name', 'Industry', 'Revenue (USD millions)', 'Revenue growth', 'Employees', 'Headquarters']\n"
     ]
    }
   ],
   "source": [
    "# pull out column headers\n",
    "revenue_headers = revenue_table.find_all('th')\n",
    "revenue_headers = [ header.text.strip() for header in revenue_table.find_all('th')] #remove <th> tags and new line character '\\n'\n",
    "print(revenue_headers)"
   ]
  },
  {
   "cell_type": "markdown",
   "id": "75bc606f-54a2-4cd8-bb84-998f05c78e49",
   "metadata": {},
   "source": [
    "## Create Pandas DataFrame"
   ]
  },
  {
   "cell_type": "code",
   "execution_count": 13,
   "id": "15cc7055-5c16-47ef-ac7c-97a8f6f2ceff",
   "metadata": {},
   "outputs": [],
   "source": [
    "import pandas as pd"
   ]
  },
  {
   "cell_type": "code",
   "execution_count": 17,
   "id": "9a34acef-a8e8-427b-9843-772627d773b1",
   "metadata": {},
   "outputs": [
    {
     "data": {
      "text/html": [
       "<div>\n",
       "<style scoped>\n",
       "    .dataframe tbody tr th:only-of-type {\n",
       "        vertical-align: middle;\n",
       "    }\n",
       "\n",
       "    .dataframe tbody tr th {\n",
       "        vertical-align: top;\n",
       "    }\n",
       "\n",
       "    .dataframe thead th {\n",
       "        text-align: right;\n",
       "    }\n",
       "</style>\n",
       "<table border=\"1\" class=\"dataframe\">\n",
       "  <thead>\n",
       "    <tr style=\"text-align: right;\">\n",
       "      <th></th>\n",
       "      <th>Rank</th>\n",
       "      <th>Name</th>\n",
       "      <th>Industry</th>\n",
       "      <th>Revenue (USD millions)</th>\n",
       "      <th>Revenue growth</th>\n",
       "      <th>Employees</th>\n",
       "      <th>Headquarters</th>\n",
       "    </tr>\n",
       "  </thead>\n",
       "  <tbody>\n",
       "  </tbody>\n",
       "</table>\n",
       "</div>"
      ],
      "text/plain": [
       "Empty DataFrame\n",
       "Columns: [Rank, Name, Industry, Revenue (USD millions), Revenue growth, Employees, Headquarters]\n",
       "Index: []"
      ]
     },
     "execution_count": 17,
     "metadata": {},
     "output_type": "execute_result"
    }
   ],
   "source": [
    "rev_df = pd.DataFrame(columns=revenue_headers)\n",
    "rev_df"
   ]
  },
  {
   "cell_type": "code",
   "execution_count": 41,
   "id": "f030da09-e80c-4188-9a6a-de3f38d5d9b0",
   "metadata": {},
   "outputs": [
    {
     "data": {
      "text/plain": [
       "[<tr>\n",
       " <td>1\n",
       " </td>\n",
       " <td><a href=\"/wiki/Walmart\" title=\"Walmart\">Walmart</a>\n",
       " </td>\n",
       " <td>General merchandisers\n",
       " </td>\n",
       " <td style=\"text-align:center;\">572,754\n",
       " </td>\n",
       " <td style=\"text-align:center;\"><span typeof=\"mw:File\"><span title=\"Increase\"><img alt=\"Increase\" class=\"mw-file-element\" data-file-height=\"300\" data-file-width=\"300\" decoding=\"async\" height=\"11\" src=\"//upload.wikimedia.org/wikipedia/commons/thumb/b/b0/Increase2.svg/11px-Increase2.svg.png\" srcset=\"//upload.wikimedia.org/wikipedia/commons/thumb/b/b0/Increase2.svg/17px-Increase2.svg.png 1.5x, //upload.wikimedia.org/wikipedia/commons/thumb/b/b0/Increase2.svg/22px-Increase2.svg.png 2x\" width=\"11\"/></span></span> <span data-sort-value=\"7000300000000000000♠\" style=\"display:none\"></span> 2.4%\n",
       " </td>\n",
       " <td style=\"text-align:center;\">2,300,000\n",
       " </td>\n",
       " <td><a href=\"/wiki/Bentonville,_Arkansas\" title=\"Bentonville, Arkansas\">Bentonville, Arkansas</a>\n",
       " </td></tr>,\n",
       " <tr>\n",
       " <td>2\n",
       " </td>\n",
       " <td><a href=\"/wiki/Amazon_(company)\" title=\"Amazon (company)\">Amazon</a>\n",
       " </td>\n",
       " <td><a href=\"/wiki/Retail\" title=\"Retail\">Retail</a> and <a href=\"/wiki/Cloud_computing\" title=\"Cloud computing\">Cloud Computing</a>\n",
       " </td>\n",
       " <td style=\"text-align:center;\">469,822\n",
       " </td>\n",
       " <td style=\"text-align:center;\"><span typeof=\"mw:File\"><span title=\"Increase\"><img alt=\"Increase\" class=\"mw-file-element\" data-file-height=\"300\" data-file-width=\"300\" decoding=\"async\" height=\"11\" src=\"//upload.wikimedia.org/wikipedia/commons/thumb/b/b0/Increase2.svg/11px-Increase2.svg.png\" srcset=\"//upload.wikimedia.org/wikipedia/commons/thumb/b/b0/Increase2.svg/17px-Increase2.svg.png 1.5x, //upload.wikimedia.org/wikipedia/commons/thumb/b/b0/Increase2.svg/22px-Increase2.svg.png 2x\" width=\"11\"/></span></span> <span data-sort-value=\"7000300000000000000♠\" style=\"display:none\"></span> 21.7%\n",
       " </td>\n",
       " <td style=\"text-align:center;\">1,608,000\n",
       " </td>\n",
       " <td><a href=\"/wiki/Seattle\" title=\"Seattle\">Seattle, Washington</a>\n",
       " </td></tr>,\n",
       " <tr>\n",
       " <td>3\n",
       " </td>\n",
       " <td><a class=\"mw-redirect\" href=\"/wiki/Apple_Inc\" title=\"Apple Inc\">Apple</a>\n",
       " </td>\n",
       " <td><a href=\"/wiki/Electronics_industry\" title=\"Electronics industry\">Electronics industry</a>\n",
       " </td>\n",
       " <td style=\"text-align:center;\">365,817\n",
       " </td>\n",
       " <td style=\"text-align:center;\"><span typeof=\"mw:File\"><span title=\"Increase\"><img alt=\"Increase\" class=\"mw-file-element\" data-file-height=\"300\" data-file-width=\"300\" decoding=\"async\" height=\"11\" src=\"//upload.wikimedia.org/wikipedia/commons/thumb/b/b0/Increase2.svg/11px-Increase2.svg.png\" srcset=\"//upload.wikimedia.org/wikipedia/commons/thumb/b/b0/Increase2.svg/17px-Increase2.svg.png 1.5x, //upload.wikimedia.org/wikipedia/commons/thumb/b/b0/Increase2.svg/22px-Increase2.svg.png 2x\" width=\"11\"/></span></span> <span data-sort-value=\"2999450000000000000♠\" style=\"display:none\"></span> 33.2%\n",
       " </td>\n",
       " <td style=\"text-align:center;\">154,000\n",
       " </td>\n",
       " <td><a href=\"/wiki/Cupertino,_California\" title=\"Cupertino, California\">Cupertino, California</a>\n",
       " </td></tr>]"
      ]
     },
     "execution_count": 41,
     "metadata": {},
     "output_type": "execute_result"
    }
   ],
   "source": [
    "revenue_data = revenue_table.find_all('tr')[1:] #exclude 1st element as they are column headers\n",
    "revenue_data[:3] #display first 3"
   ]
  },
  {
   "cell_type": "code",
   "execution_count": 22,
   "id": "e8fc779d-26f9-4f03-9093-da7e7ffbd61b",
   "metadata": {},
   "outputs": [
    {
     "name": "stdout",
     "output_type": "stream",
     "text": [
      "[['1', 'Walmart', 'General merchandisers', '572,754', '2.4%', '2,300,000', 'Bentonville, Arkansas'], ['2', 'Amazon', 'Retail and Cloud Computing', '469,822', '21.7%', '1,608,000', 'Seattle, Washington'], ['3', 'Apple', 'Electronics industry', '365,817', '33.2%', '154,000', 'Cupertino, California'], ['4', 'CVS Health', 'Healthcare', '292,111', '32.0%', '258,000', 'Woonsocket, Rhode Island'], ['5', 'UnitedHealth Group', 'Healthcare', '287,597', '11.8%', '350,000', 'Minnetonka, Minnesota'], ['6', 'Exxon Mobil', 'Petroleum industry', '285,640', '57.4%', '63,000', 'Spring, Texas'], ['7', 'Berkshire Hathaway', 'Conglomerate', '276,094', '12.5%', '372,000', 'Omaha, Nebraska'], ['8', 'Alphabet', 'Technology', '257,637', '41.2%', '156,000', 'Mountain View, California'], ['9', 'McKesson Corporation', 'Health', '238,228', '3.1%', '67,500', 'Irving, Texas'], ['10', 'AmerisourceBergen', 'Pharmaceutical industry', '213,989', '12.7%', '40,000', 'Chesterbrook, Pennsylvania'], ['11', 'Microsoft', 'Technology', '198,087', '17.5%', '181,000', 'Redmond, Washington'], ['12', 'Costco', 'Retail', '195,929', '17.5%', '288,000', 'Issaquah, Washington'], ['13', 'Cigna', 'Health Insurance', '174,078', '8.5%', '72,963', 'Bloomfield, Connecticut'], ['14', 'AT&T', 'Conglomerate', '168,864', '1.7%', '202,600', 'Dallas, Texas'], ['15', 'Cardinal Health', 'Healthcare', '162,467', '6.2%', '46,827', 'Dublin, Ohio'], ['16', 'Chevron Corporation', 'Petroleum industry', '162,465', '71.6%', '42,595', 'San Ramon, California'], ['17', 'The Home Depot', 'Retail', '151,157', '14.4%', '490,600', 'Atlanta, Georgia'], ['18', 'Walgreens Boots Alliance', 'Pharmaceutical industry', '148,579', '6.5%', '258,500', 'Deerfield, Illinois'], ['19', 'Marathon Petroleum', 'Petroleum industry', '141,032', '58.5%', '17,700', 'Findlay, Ohio'], ['20', 'Elevance Health', 'Healthcare', '138,639', '13.8%', '98,200', 'Indianapolis, Indiana'], ['21', 'Kroger', 'Retail', '137,888', '4.1%', '420,000', 'Cincinnati, Ohio'], ['22', 'Ford Motor Company', 'Automotive industry', '136,341', '7.2%', '183,000', 'Dearborn, Michigan'], ['23', 'Verizon Communications', 'Telecommunications', '133,613', '4.1%', '118,400', 'New York City, New York'], ['24', 'JPMorgan Chase', 'Financial services', '127,202', '1.8%', '271,025', 'New York City, New York'], ['25', 'General Motors', 'Automotive', '127,004', '3.7%', '157,000', 'Detroit, Michigan'], ['26', 'Centene', 'Healthcare', '125,982', '13.4%', '72,500', 'St. Louis, Missouri'], ['27', 'Meta Platforms', 'Technology', '117,385', '37.2%', '71,970', 'Menlo Park, California'], ['28', 'Comcast', 'Telecommunications', '116,385', '12.4%', '189,000', 'Philadelphia, Pennsylvania'], ['29', 'Phillips 66', 'Petroleum industry', '114,852', '75.4%', '14,000', 'Houston, Texas'], ['30', 'Valero Energy', 'Petroleum industry', '108,332', '80.2%', '9,804', 'San Antonio, Texas'], ['31', 'Dell Technologies', 'Technology', '106,995', '13.6%', '133,000', 'Round Rock, Texas'], ['32', 'Target Corporation', 'Retail', '106,005', '13.3%', '450,000', 'Minneapolis, Minnesota'], ['33', 'Fannie Mae', 'Financials', '101,543', '4.6%', '7,400', 'Washington, D.C.'], ['34', 'United Parcel Service', 'Transportation', '97,287', '15.0%', '400,945', 'Atlanta, Georgia'], ['35', \"Lowe's\", 'Retail', '96,250', '7.4%', '270,000', 'Mooresville, North Carolina'], ['36', 'Bank of America', 'Financials', '93,851', '0.1%', '208,248', 'Charlotte, North Carolina'], ['37', 'Johnson & Johnson', 'Pharmaceutical industry', '93,775', '13.6%', '141,700', 'New Brunswick, New Jersey'], ['38', 'Archer Daniels Midland', 'Food industry', '85,959', '32.5%', '39,979', 'Chicago, Illinois'], ['39', 'FedEx', 'Transportation', '83,959', '21.3%', '484,000', 'Memphis, Tennessee'], ['40', 'Humana', 'Health Insurance', '83,064', '7.7%', '95,500', 'Louisville, Kentucky'], ['41', 'Wells Fargo', 'Financials', '82,407', '2.6%', '247,848', 'San Francisco, California'], ['42', 'State Farm', 'Financials', '82,407', '4.2%', '53,586', 'Bloomington, Illinois'], ['43', 'Pfizer', 'Pharmaceutical industry', '81,288', '94.0%', '79,000', 'New York City, New York'], ['44', 'Citigroup', 'Financials', '79,865', '10.1%', '221,768', 'New York City, New York'], ['45', 'PepsiCo', 'Beverage', '79,474', '12.9%', '309,000', 'Purchase, New York'], ['46', 'Intel', 'Technology', '79,024', '1.5%', '121,100', 'Santa Clara, California'], ['47', 'Procter & Gamble', 'Consumer products Manufacturing', '76,118', '7.3%', '101,000', 'Cincinnati, Ohio'], ['48', 'General Electric', 'Conglomerate', '74,196', '6.8%', '168,000', 'Boston, Massachusetts'], ['49', 'IBM', 'Technology', '72,344', '1.7%', '297,800', 'Armonk, New York'], ['50', 'MetLife', 'Financials', '71,080', '4.8%', '43,000', 'New York City, New York'], ['51', 'Prudential Financial', 'Financials', '70,934', '24.4%', '40,916', 'Newark, New Jersey'], ['52', 'Albertsons', 'Retail', '69,690', '11.6%', '300,000', 'Boise, Idaho'], ['53', 'The Walt Disney Company', 'Media', '67,418', '3.1%', '171,000', 'Burbank, California'], ['54', 'Energy Transfer Partners', 'Petroleum industry', '67,418', '73.1%', '12,558', 'Dallas, Texas'], ['55', 'Lockheed Martin', 'Aerospace and Defense', '67,044', '2.5%', '114,000', 'Bethesda, Maryland'], ['56', 'Freddie Mac', 'Financials', '65,898', '0.5%', '7,301', 'McLean, Virginia'], ['57', 'Goldman Sachs', 'Financials', '64,989', '2.7%', '43,900', 'New York City, New York'], ['58', 'Raytheon Technologies', 'Conglomerate', '64,388', '13.8%', '174,000', 'Waltham, Massachusetts'], ['59', 'HP', 'Technology', '63,487', '12.1%', '51,000', 'Palo Alto, California'], ['60', 'Boeing', 'Aerospace and defense', '62,286', '7.1%', '142,000', 'Chicago, Illinois'], ['61', 'Morgan Stanley', 'Financials', '61,121', '17.4%', '74,814', 'New York City, New York'], ['62', 'HCA Healthcare', 'Healthcare', '58,752', '14.0%', '244,000', 'Nashville, Tennessee'], ['63', 'AbbVie', 'Pharmaceutical industry', '56,197', '22.7%', '50,000', 'Lake Bluff, Illinois'], ['64', 'Dow Chemical Company', 'Chemical industry', '54,968', '42.6%', '35,700', 'Midland, Michigan'], ['65', 'Tesla', 'Automotive and Energy', '53,823', '70.7%', '99,290', 'Austin, Texas'], ['66', 'Allstate', 'Insurance', '53,228', '18.8%', '54,500', 'Northfield Township, Cook County, Illinois'], ['67', 'AIG', 'Insurance', '52,057', '19.0%', '36,600', 'New York City, New York'], ['68', 'Best Buy', 'Retail', '51,761', '9.5%', '81,375', 'Richfield, Minnesota'], ['69', 'Charter Communications', 'Telecommunications', '51,682', '7.5%', '93,700', 'Stamford, Connecticut'], ['70', 'Sysco', 'Food Service', '51,298', '3.0%', '57,710', 'Houston, Texas'], ['71', 'Merck & Co.', 'Pharmaceutical industry', '51,216', '6.7%', '67,500', 'Kenilworth, New Jersey'], ['72', 'New York Life Insurance Company', 'Insurance', '51,199', '9.6%', '13,344', 'New York City, New York'], ['73', 'Novartis', 'Pharmaceuticals', '51,332', '6.0%', '110,000', 'Cambridge, Massachusetts'], ['74', 'Caterpillar', 'Machinery', '50,971', '22.1%', '107,700', 'Deerfield, Illinois'], ['75', 'Cisco', 'Telecom Hardware Manufacturing', '49,818', '1.0%', '79,500', 'San Jose, California'], ['76', 'TJX', 'Retail', '48,550', '51.1%', '340,000', 'Framingham, Massachusetts'], ['77', 'Publix', 'Retail', '48,394', '7.1%', '232,000', 'Lakeland, Florida'], ['78', 'ConocoPhillips', 'Petroleum industry', '48,349', '151.1%', '9,900', 'Houston, Texas'], ['79', 'Liberty Mutual Group', 'Insurance', '48,200', '10.1%', '45,000', 'Boston, Massachusetts'], ['80', 'Progressive Corporation', 'Insurance', '47,702', '11.8%', '49,077', 'Mayfield Village, Ohio'], ['81', 'Nationwide Mutual Insurance Company', 'Financial', '47,376', '13.0%', '24,134', 'Columbus, Ohio'], ['82', 'Tyson Foods', 'Food Processing', '47,049', '8.9%', '137,000', 'Springdale, Arkansas'], ['83', 'Bristol-Myers Squibb', 'Pharmaceutical industry', '46,385', '9.1%', '32,200', 'New York City, New York'], ['84', 'GSK plc', 'Pharmaceuticals', '44,700', '3.0%', '97,000', 'Philadelphia, Pennsylvania'], ['85', 'Nike', 'Apparel', '44,538', '19.1%', '73,300', 'Beaverton, Oregon'], ['86', 'John Deere', 'Agriculture manufacturing', '44,024', '23.9%', '75,550', 'Moline, Illinois'], ['87', 'American Express', 'Financial', '43,663', '14.3%', '64,000', 'New York City, New York'], ['88', 'Abbott Laboratories', 'Medical devices', '43,075', '24.5%', '113,000', 'Chicago, Illinois'], ['89', 'StoneX Group', 'Financials', '42,534', '21.4%', '3,242', 'New York City, New York'], ['90', 'Plains All American Pipeline', 'Petroleum industry', '42,078', '80.7%', '4,100', 'Houston, Texas'], ['91', 'Enterprise Products', 'Petroleum industry', '40,807', '50.0%', '6,911', 'Houston, Texas'], ['92', 'TIAA', 'Insurance', '40,526', '2.6%', '15,065', 'New York City, New York'], ['93', 'Oracle Corporation', 'Software', '40,479', '3.6%', '132,000', 'Austin, Texas'], ['94', 'Thermo Fisher Scientific', 'Laboratory instruments', '39,211', '21.7%', '129,000', 'Waltham, Massachusetts'], ['95', 'Coca-Cola Company', 'Beverages', '38,655', '17.1%', '79,000', 'Atlanta, Georgia'], ['96', 'General Dynamics', 'Airspace and defense', '38,469', '8.7%', '103,100', 'Reston, Virginia'], ['97', 'CHS', 'Agriculture cooperative', '38,448', '1.4%', '9,941', 'Inver Grove Heights, Minnesota'], ['98', 'USAA', 'Financials', '37,470', '3.2%', '37,335', 'San Antonio, Texas'], ['99', 'Northwestern Mutual', 'Insurance', '36,751', '8.8%', '7,585', 'Milwaukee, Wisconsin'], ['100', 'Nucor', 'Metals', '36,484', '81.2%', '28,800', 'Charlotte, North Carolina']]\n"
     ]
    }
   ],
   "source": [
    "individual_row_data = [] # two dimensional array to store row data row x column\n",
    "for row in revenue_data:\n",
    "    row_data = row.find_all('td')\n",
    "    individual_row_data.append([data.text.strip() for data in row_data])\n",
    "print(individual_row_data)"
   ]
  },
  {
   "cell_type": "code",
   "execution_count": 32,
   "id": "d2703f0e-c34c-439e-bae7-417c247eadda",
   "metadata": {},
   "outputs": [],
   "source": [
    "# add data into dataframe\n",
    "for i in range(len(individual_row_data)):\n",
    "    rev_df.loc[i] = individual_row_data[i]"
   ]
  },
  {
   "cell_type": "code",
   "execution_count": 36,
   "id": "268789f8-734a-415f-ae1b-8599c354df9c",
   "metadata": {},
   "outputs": [
    {
     "data": {
      "text/html": [
       "<div>\n",
       "<style scoped>\n",
       "    .dataframe tbody tr th:only-of-type {\n",
       "        vertical-align: middle;\n",
       "    }\n",
       "\n",
       "    .dataframe tbody tr th {\n",
       "        vertical-align: top;\n",
       "    }\n",
       "\n",
       "    .dataframe thead th {\n",
       "        text-align: right;\n",
       "    }\n",
       "</style>\n",
       "<table border=\"1\" class=\"dataframe\">\n",
       "  <thead>\n",
       "    <tr style=\"text-align: right;\">\n",
       "      <th></th>\n",
       "      <th>Rank</th>\n",
       "      <th>Name</th>\n",
       "      <th>Industry</th>\n",
       "      <th>Revenue (USD millions)</th>\n",
       "      <th>Revenue growth</th>\n",
       "      <th>Employees</th>\n",
       "      <th>Headquarters</th>\n",
       "    </tr>\n",
       "  </thead>\n",
       "  <tbody>\n",
       "    <tr>\n",
       "      <th>0</th>\n",
       "      <td>1</td>\n",
       "      <td>Walmart</td>\n",
       "      <td>General merchandisers</td>\n",
       "      <td>572,754</td>\n",
       "      <td>2.4%</td>\n",
       "      <td>2,300,000</td>\n",
       "      <td>Bentonville, Arkansas</td>\n",
       "    </tr>\n",
       "    <tr>\n",
       "      <th>1</th>\n",
       "      <td>2</td>\n",
       "      <td>Amazon</td>\n",
       "      <td>Retail and Cloud Computing</td>\n",
       "      <td>469,822</td>\n",
       "      <td>21.7%</td>\n",
       "      <td>1,608,000</td>\n",
       "      <td>Seattle, Washington</td>\n",
       "    </tr>\n",
       "    <tr>\n",
       "      <th>2</th>\n",
       "      <td>3</td>\n",
       "      <td>Apple</td>\n",
       "      <td>Electronics industry</td>\n",
       "      <td>365,817</td>\n",
       "      <td>33.2%</td>\n",
       "      <td>154,000</td>\n",
       "      <td>Cupertino, California</td>\n",
       "    </tr>\n",
       "    <tr>\n",
       "      <th>3</th>\n",
       "      <td>4</td>\n",
       "      <td>CVS Health</td>\n",
       "      <td>Healthcare</td>\n",
       "      <td>292,111</td>\n",
       "      <td>32.0%</td>\n",
       "      <td>258,000</td>\n",
       "      <td>Woonsocket, Rhode Island</td>\n",
       "    </tr>\n",
       "    <tr>\n",
       "      <th>4</th>\n",
       "      <td>5</td>\n",
       "      <td>UnitedHealth Group</td>\n",
       "      <td>Healthcare</td>\n",
       "      <td>287,597</td>\n",
       "      <td>11.8%</td>\n",
       "      <td>350,000</td>\n",
       "      <td>Minnetonka, Minnesota</td>\n",
       "    </tr>\n",
       "  </tbody>\n",
       "</table>\n",
       "</div>"
      ],
      "text/plain": [
       "  Rank                Name                    Industry Revenue (USD millions)  \\\n",
       "0    1             Walmart       General merchandisers                572,754   \n",
       "1    2              Amazon  Retail and Cloud Computing                469,822   \n",
       "2    3               Apple        Electronics industry                365,817   \n",
       "3    4          CVS Health                  Healthcare                292,111   \n",
       "4    5  UnitedHealth Group                  Healthcare                287,597   \n",
       "\n",
       "  Revenue growth  Employees              Headquarters  \n",
       "0           2.4%  2,300,000     Bentonville, Arkansas  \n",
       "1          21.7%  1,608,000       Seattle, Washington  \n",
       "2          33.2%    154,000     Cupertino, California  \n",
       "3          32.0%    258,000  Woonsocket, Rhode Island  \n",
       "4          11.8%    350,000     Minnetonka, Minnesota  "
      ]
     },
     "execution_count": 36,
     "metadata": {},
     "output_type": "execute_result"
    }
   ],
   "source": [
    "#Display completed dataframe\n",
    "rev_df.head()"
   ]
  },
  {
   "cell_type": "code",
   "execution_count": 37,
   "id": "eeff30f1-3069-4010-aff7-28a0c73da0ac",
   "metadata": {},
   "outputs": [],
   "source": [
    "#export dataframe to csv file\n",
    "rev_df.to_csv('LargestUSCompaniesByRevenue.csv',index=False)"
   ]
  },
  {
   "cell_type": "markdown",
   "id": "637d3ef3-f0f9-424e-9242-e2541062b606",
   "metadata": {},
   "source": [
    "# Largest Companies by Profit"
   ]
  },
  {
   "cell_type": "code",
   "execution_count": 46,
   "id": "7efd1886-9630-4f22-9fcd-c21ee62941f6",
   "metadata": {},
   "outputs": [],
   "source": [
    "profit_table = soup.find_all('table')[2]"
   ]
  },
  {
   "cell_type": "code",
   "execution_count": 47,
   "id": "5b73fd07-9404-44c5-ac8a-64b97b5671e8",
   "metadata": {},
   "outputs": [
    {
     "name": "stdout",
     "output_type": "stream",
     "text": [
      "['Rank', 'Name', 'Industry', 'Profits(USD millions)']\n"
     ]
    }
   ],
   "source": [
    "#pull out column headers\n",
    "profit_headers = [ header.text.strip() for header in profit_table.find_all('th') ]\n",
    "print(profit_headers)"
   ]
  },
  {
   "cell_type": "markdown",
   "id": "6b59c1d2-2135-4dba-97d6-108e843f57fc",
   "metadata": {},
   "source": [
    "# Create Pandas DataFrame"
   ]
  },
  {
   "cell_type": "code",
   "execution_count": 49,
   "id": "37956318-fd6e-4077-b4e1-403357fa0cc9",
   "metadata": {},
   "outputs": [
    {
     "data": {
      "text/html": [
       "<div>\n",
       "<style scoped>\n",
       "    .dataframe tbody tr th:only-of-type {\n",
       "        vertical-align: middle;\n",
       "    }\n",
       "\n",
       "    .dataframe tbody tr th {\n",
       "        vertical-align: top;\n",
       "    }\n",
       "\n",
       "    .dataframe thead th {\n",
       "        text-align: right;\n",
       "    }\n",
       "</style>\n",
       "<table border=\"1\" class=\"dataframe\">\n",
       "  <thead>\n",
       "    <tr style=\"text-align: right;\">\n",
       "      <th></th>\n",
       "      <th>Rank</th>\n",
       "      <th>Name</th>\n",
       "      <th>Industry</th>\n",
       "      <th>Profits(USD millions)</th>\n",
       "    </tr>\n",
       "  </thead>\n",
       "  <tbody>\n",
       "  </tbody>\n",
       "</table>\n",
       "</div>"
      ],
      "text/plain": [
       "Empty DataFrame\n",
       "Columns: [Rank, Name, Industry, Profits(USD millions)]\n",
       "Index: []"
      ]
     },
     "execution_count": 49,
     "metadata": {},
     "output_type": "execute_result"
    }
   ],
   "source": [
    "profit_df = pd.DataFrame(columns=profit_headers)\n",
    "profit_df"
   ]
  },
  {
   "cell_type": "code",
   "execution_count": 50,
   "id": "2d2d4bfa-cd13-4bff-a82c-1bbbec5c7722",
   "metadata": {},
   "outputs": [],
   "source": [
    "#retrive table rows data\n",
    "profit_data = profit_table.find_all('tr')[1:] #Exclude first row as it contains headers"
   ]
  },
  {
   "cell_type": "code",
   "execution_count": 51,
   "id": "be6732e4-2beb-4375-9ccb-8c74f63abbf3",
   "metadata": {},
   "outputs": [],
   "source": [
    "for index, row in enumerate(profit_data):\n",
    "    row_data = row.find_all('td')\n",
    "    profit_df.loc[index] = [data.text.strip() for data in row_data] "
   ]
  },
  {
   "cell_type": "code",
   "execution_count": 52,
   "id": "e82d4618-425b-4175-9d2e-626a9babfa5d",
   "metadata": {},
   "outputs": [
    {
     "data": {
      "text/html": [
       "<div>\n",
       "<style scoped>\n",
       "    .dataframe tbody tr th:only-of-type {\n",
       "        vertical-align: middle;\n",
       "    }\n",
       "\n",
       "    .dataframe tbody tr th {\n",
       "        vertical-align: top;\n",
       "    }\n",
       "\n",
       "    .dataframe thead th {\n",
       "        text-align: right;\n",
       "    }\n",
       "</style>\n",
       "<table border=\"1\" class=\"dataframe\">\n",
       "  <thead>\n",
       "    <tr style=\"text-align: right;\">\n",
       "      <th></th>\n",
       "      <th>Rank</th>\n",
       "      <th>Name</th>\n",
       "      <th>Industry</th>\n",
       "      <th>Profits(USD millions)</th>\n",
       "    </tr>\n",
       "  </thead>\n",
       "  <tbody>\n",
       "    <tr>\n",
       "      <th>0</th>\n",
       "      <td>1</td>\n",
       "      <td>Apple</td>\n",
       "      <td>Electronics</td>\n",
       "      <td>94,680</td>\n",
       "    </tr>\n",
       "    <tr>\n",
       "      <th>1</th>\n",
       "      <td>2</td>\n",
       "      <td>Berkshire Hathaway</td>\n",
       "      <td>Conglomerate</td>\n",
       "      <td>89,795</td>\n",
       "    </tr>\n",
       "    <tr>\n",
       "      <th>2</th>\n",
       "      <td>3</td>\n",
       "      <td>Alphabet</td>\n",
       "      <td>Technology</td>\n",
       "      <td>76,033</td>\n",
       "    </tr>\n",
       "    <tr>\n",
       "      <th>3</th>\n",
       "      <td>4</td>\n",
       "      <td>Microsoft</td>\n",
       "      <td>Technology</td>\n",
       "      <td>72,271</td>\n",
       "    </tr>\n",
       "    <tr>\n",
       "      <th>4</th>\n",
       "      <td>5</td>\n",
       "      <td>JPMorgan Chase</td>\n",
       "      <td>Financials</td>\n",
       "      <td>48,334</td>\n",
       "    </tr>\n",
       "    <tr>\n",
       "      <th>5</th>\n",
       "      <td>6</td>\n",
       "      <td>Meta</td>\n",
       "      <td>Technology</td>\n",
       "      <td>39,370</td>\n",
       "    </tr>\n",
       "    <tr>\n",
       "      <th>6</th>\n",
       "      <td>7</td>\n",
       "      <td>Amazon</td>\n",
       "      <td>Retail and Technology</td>\n",
       "      <td>33,364</td>\n",
       "    </tr>\n",
       "    <tr>\n",
       "      <th>7</th>\n",
       "      <td>8</td>\n",
       "      <td>Bank of America</td>\n",
       "      <td>Financials</td>\n",
       "      <td>31,978</td>\n",
       "    </tr>\n",
       "    <tr>\n",
       "      <th>8</th>\n",
       "      <td>9</td>\n",
       "      <td>ExxonMobil</td>\n",
       "      <td>Petroleum industry</td>\n",
       "      <td>23,040</td>\n",
       "    </tr>\n",
       "    <tr>\n",
       "      <th>9</th>\n",
       "      <td>10</td>\n",
       "      <td>Fannie Mae</td>\n",
       "      <td>Financials</td>\n",
       "      <td>22,176</td>\n",
       "    </tr>\n",
       "    <tr>\n",
       "      <th>10</th>\n",
       "      <td>11</td>\n",
       "      <td>Verizon</td>\n",
       "      <td>Telecommunications</td>\n",
       "      <td>22,065</td>\n",
       "    </tr>\n",
       "    <tr>\n",
       "      <th>11</th>\n",
       "      <td>12</td>\n",
       "      <td>Pfizer</td>\n",
       "      <td>Pharmaceutical industry</td>\n",
       "      <td>21,979</td>\n",
       "    </tr>\n",
       "    <tr>\n",
       "      <th>12</th>\n",
       "      <td>13</td>\n",
       "      <td>Citigroup</td>\n",
       "      <td>Financials</td>\n",
       "      <td>21,952</td>\n",
       "    </tr>\n",
       "    <tr>\n",
       "      <th>13</th>\n",
       "      <td>14</td>\n",
       "      <td>Goldman Sachs</td>\n",
       "      <td>Financials</td>\n",
       "      <td>21,635</td>\n",
       "    </tr>\n",
       "    <tr>\n",
       "      <th>14</th>\n",
       "      <td>15</td>\n",
       "      <td>Wells Fargo</td>\n",
       "      <td>Financials</td>\n",
       "      <td>21,548</td>\n",
       "    </tr>\n",
       "    <tr>\n",
       "      <th>15</th>\n",
       "      <td>16</td>\n",
       "      <td>Johnson &amp; Johnson</td>\n",
       "      <td>Pharmaceutical industry</td>\n",
       "      <td>20,878</td>\n",
       "    </tr>\n",
       "    <tr>\n",
       "      <th>16</th>\n",
       "      <td>17</td>\n",
       "      <td>AT&amp;T</td>\n",
       "      <td>Telecommunications</td>\n",
       "      <td>20,081</td>\n",
       "    </tr>\n",
       "    <tr>\n",
       "      <th>17</th>\n",
       "      <td>18</td>\n",
       "      <td>Intel</td>\n",
       "      <td>Technology</td>\n",
       "      <td>19,868</td>\n",
       "    </tr>\n",
       "    <tr>\n",
       "      <th>18</th>\n",
       "      <td>19</td>\n",
       "      <td>Ford Motor Company</td>\n",
       "      <td>Automotive</td>\n",
       "      <td>17,937</td>\n",
       "    </tr>\n",
       "    <tr>\n",
       "      <th>19</th>\n",
       "      <td>20</td>\n",
       "      <td>UnitedHealth Group</td>\n",
       "      <td>Healthcare</td>\n",
       "      <td>17,285</td>\n",
       "    </tr>\n",
       "  </tbody>\n",
       "</table>\n",
       "</div>"
      ],
      "text/plain": [
       "   Rank                Name                 Industry Profits(USD millions)\n",
       "0     1               Apple              Electronics                94,680\n",
       "1     2  Berkshire Hathaway             Conglomerate                89,795\n",
       "2     3            Alphabet               Technology                76,033\n",
       "3     4           Microsoft               Technology                72,271\n",
       "4     5      JPMorgan Chase               Financials                48,334\n",
       "5     6                Meta               Technology                39,370\n",
       "6     7              Amazon    Retail and Technology                33,364\n",
       "7     8     Bank of America               Financials                31,978\n",
       "8     9          ExxonMobil       Petroleum industry                23,040\n",
       "9    10          Fannie Mae               Financials                22,176\n",
       "10   11             Verizon       Telecommunications                22,065\n",
       "11   12              Pfizer  Pharmaceutical industry                21,979\n",
       "12   13           Citigroup               Financials                21,952\n",
       "13   14       Goldman Sachs               Financials                21,635\n",
       "14   15         Wells Fargo               Financials                21,548\n",
       "15   16   Johnson & Johnson  Pharmaceutical industry                20,878\n",
       "16   17                AT&T       Telecommunications                20,081\n",
       "17   18               Intel               Technology                19,868\n",
       "18   19  Ford Motor Company               Automotive                17,937\n",
       "19   20  UnitedHealth Group               Healthcare                17,285"
      ]
     },
     "execution_count": 52,
     "metadata": {},
     "output_type": "execute_result"
    }
   ],
   "source": [
    "profit_df"
   ]
  },
  {
   "cell_type": "code",
   "execution_count": null,
   "id": "bc63a407-e130-4eaf-92f4-908ccbd9393c",
   "metadata": {},
   "outputs": [],
   "source": []
  }
 ],
 "metadata": {
  "kernelspec": {
   "display_name": "Python 3 (ipykernel)",
   "language": "python",
   "name": "python3"
  },
  "language_info": {
   "codemirror_mode": {
    "name": "ipython",
    "version": 3
   },
   "file_extension": ".py",
   "mimetype": "text/x-python",
   "name": "python",
   "nbconvert_exporter": "python",
   "pygments_lexer": "ipython3",
   "version": "3.11.4"
  }
 },
 "nbformat": 4,
 "nbformat_minor": 5
}
